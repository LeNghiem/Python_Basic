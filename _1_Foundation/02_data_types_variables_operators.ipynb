{
 "cells": [
  {
   "cell_type": "markdown",
   "metadata": {},
   "source": [
    "# Varibale"
   ]
  },
  {
   "cell_type": "markdown",
   "metadata": {},
   "source": [
    "# Naming Conventions in Python\n",
    "\n",
    "In Python, naming conventions are important for readability and maintainability of the code. Here are some common conventions:\n",
    "\n",
    "1. **Variable Names**: Use lowercase words separated by underscores.\n",
    "    ```python\n",
    "    my_variable = 10\n",
    "    ```\n",
    "\n",
    "2. **Function Names**: Use lowercase words separated by underscores.\n",
    "    ```python\n",
    "    def my_function():\n",
    "         pass\n",
    "    ```\n",
    "\n",
    "3. **Class Names**: Use CamelCase (capitalize each word).\n",
    "    ```python\n",
    "    class MyClass:\n",
    "         pass\n",
    "    ```\n",
    "\n",
    "4. **Constants**: Use all uppercase letters separated by underscores.\n",
    "    ```python\n",
    "    MY_CONSTANT = 100\n",
    "    ```\n",
    "\n",
    "5. **Module Names**: Use lowercase words separated by underscores.\n",
    "    ```python\n",
    "    import my_module\n",
    "    ```\n",
    "\n",
    "6. **Package Names**: Use short, lowercase names without underscores.\n",
    "    ```python\n",
    "    import mypackage\n",
    "    ```\n",
    "\n",
    "Following these conventions helps in writing clean and understandable code."
   ]
  },
  {
   "cell_type": "markdown",
   "metadata": {},
   "source": [
    "### Naming variable with the following rules.\n",
    "1. Using characters a-z and number 0-9.\n",
    "a1, a2, abc, afsfdfs\n",
    "2. Start with a letter or underscore _\n",
    "_a1, _a2, _a3, _a_b_10\n",
    "3. Do not use special letter\n",
    "@, !,#,$,%,^<&<*>>.....\n",
    "4. Do use key words that defined in python ( Ex. list, str, ....)\n",
    "5. Variable nam have to be clear, readability, mainability, meaningful.\n",
    "\n",
    "animal_A\n",
    "dog_A\n"
   ]
  },
  {
   "cell_type": "code",
   "execution_count": 1,
   "metadata": {},
   "outputs": [
    {
     "name": "stdout",
     "output_type": "stream",
     "text": [
      "139622942867312\n",
      "139622942867312\n",
      "bird\n",
      "cat\n",
      "139622331515824\n",
      "139622908792368\n"
     ]
    }
   ],
   "source": [
    "# Variables have to assigned to the values.\n",
    "# Cannot declare a variable without assigning a value.\n",
    "# Variables are case sensitive.\n",
    "# Variables can be reassigned.\n",
    "\n",
    "animal_A = \"cat\"\n",
    "animal_B = \"dog\"\n",
    "animal_C = \"rabbit\"\n",
    "\n",
    "# if you assign a variable to another variable, the memory address of the variable will be the same.\n",
    "animal_D = animal_A\n",
    "print(id(animal_D))\n",
    "print(id(animal_A))\n",
    "# So, if you change the value of the variable (Ex. animal_A), the value of the other variable (Ex. Animal_D) will also change.\n",
    "animal_A = \"bird\"\n",
    "print(animal_A)\n",
    "print(animal_D)\n",
    "# However, if you assign a variable for (animal_D) to a value, the memory address of the variable will be different.\n",
    "animal_D = \"fish\"\n",
    "print(id(animal_A))\n",
    "print(id(animal_D))\n"
   ]
  },
  {
   "cell_type": "markdown",
   "metadata": {},
   "source": [
    "```markdown\n",
    "# Additional Information about Variables\n",
    "\n",
    "- **Variable Scope**: Variables can have different scopes, such as local, global, and nonlocal. The scope determines where the variable can be accessed in the code.\n",
    "    ```python\n",
    "    def my_function():\n",
    "        local_var = 10  # Local scope\n",
    "        print(local_var)\n",
    "\n",
    "    global_var = 20  # Global scope\n",
    "\n",
    "    my_function()\n",
    "    print(global_var)\n",
    "    ```\n",
    "\n",
    "- **Variable Types**: Variables can hold different types of data, such as integers, floats, strings, lists, dictionaries, etc.\n",
    "    ```python\n",
    "    my_int = 10  # Integer\n",
    "    my_float = 10.5  # Float\n",
    "    my_str = \"Hello\"  # String\n",
    "    my_list = [1, 2, 3]  # List\n",
    "    my_dict = {\"key\": \"value\"}  # Dictionary\n",
    "    ```\n",
    "\n",
    "- **Type Conversion**: Variables can be converted from one type to another using type conversion functions.\n",
    "    ```python\n",
    "    my_int = 10\n",
    "    my_float = float(my_int)  # Convert integer to float\n",
    "    my_str = str(my_int)  # Convert integer to string\n",
    "    ```\n",
    "\n",
    "- **Variable Deletion**: Variables can be deleted using the `del` statement.\n",
    "    ```python\n",
    "    my_var = 10\n",
    "    del my_var\n",
    "    ```\n",
    "\n",
    "- **Variable Naming Best Practices**:\n",
    "  - Use descriptive names that convey the purpose of the variable.\n",
    "  - Avoid using single-character names except for loop counters.\n",
    "  - Be consistent with naming conventions throughout your code.\n",
    "```"
   ]
  },
  {
   "cell_type": "markdown",
   "metadata": {},
   "source": [
    "# Number"
   ]
  },
  {
   "cell_type": "code",
   "execution_count": 18,
   "metadata": {},
   "outputs": [
    {
     "name": "stdout",
     "output_type": "stream",
     "text": [
      "10\n",
      "10.5\n",
      "(10+5j)\n",
      "addition:\n",
      " 10+5 = 15\n",
      "subtraction:\n",
      " 10-5 = 5\n",
      "multiplication:\n",
      " 10*5 = 50\n",
      "division:\n",
      " 10/3 = 3.3333333333333335\n",
      "floor division:\n",
      " 10//3 = 3\n",
      "modulus:\n",
      " 10%3 = 1\n",
      "exponent:\n",
      " 10**5 = 100000\n",
      "10 + 5.5 = 15.5\n"
     ]
    }
   ],
   "source": [
    "# int, float, complex\n",
    "# initial a number variable\n",
    "# int\n",
    "number = 10\n",
    "print(number)\n",
    "# float\n",
    "number = 10.5\n",
    "print(number)\n",
    "# complex\n",
    "number = 10 + 5j\n",
    "print(number)\n",
    "\n",
    "# operations with numbers\n",
    "# addition\n",
    "number = 10 + 5\n",
    "print(\"addition:\\n 10+5 =\",number)\n",
    "# subtraction\n",
    "number = 10 - 5\n",
    "print(\"subtraction:\\n 10-5 =\",number)\n",
    "# multiplication\n",
    "number = 10 * 5\n",
    "print(\"multiplication:\\n 10*5 =\",number)\n",
    "# division\n",
    "number = 10 / 3\n",
    "print(\"division:\\n 10/3 =\",number)  \n",
    "# floor division\n",
    "number = 10 // 3\n",
    "print(\"floor division:\\n 10//3 =\",number)  # return the integer part of the division\n",
    "# modulus\n",
    "number = 10 % 3\n",
    "print(\"modulus:\\n 10%3 =\",number)  # return the remainder of the division\n",
    "# exponent\n",
    "number = 10 ** 5\n",
    "print(\"exponent:\\n 10**5 =\",number)  # return the power of the number\n",
    "\n",
    "# operations with int and float numbers will return a float number in all cases.\n",
    "number = 10 + 5.5\n",
    "print(\"10 + 5.5 =\",number)\n",
    "\n",
    "\n"
   ]
  },
  {
   "cell_type": "markdown",
   "metadata": {},
   "source": [
    "# String"
   ]
  },
  {
   "cell_type": "code",
   "execution_count": null,
   "metadata": {},
   "outputs": [
    {
     "name": "stdout",
     "output_type": "stream",
     "text": [
      "Hello \n",
      " World \n",
      " Hello World\n",
      "concatenation:\n",
      " HelloWorld\n",
      "repetition:\n",
      " HelloHelloHello\n",
      "slicing:\n",
      " Hello\n",
      "indexing:\n",
      " H\n",
      "negative indexing:\n",
      "  Worl\n",
      "negative slicing:\n",
      " World\n",
      "hello World\n"
     ]
    }
   ],
   "source": [
    "# str is a sequence of characters.\n",
    "# str can be enclosed by single quotes, double quotes, or triple quotes.\n",
    "Str1 = \"Hello\"\n",
    "Str2 = 'World'\n",
    "Str3 = \"\"\"Hello World\"\"\"\n",
    "print( Str1 ,\"\\n\",Str2,\"\\n\",Str3)\n",
    "\n",
    "# operations with strings\n",
    "# concatenation\n",
    "Str = Str1 + Str2\n",
    "print(\"concatenation:\\n\",Str)\n",
    "# repetition\n",
    "Str = Str1 * 3\n",
    "print(\"repetition:\\n\",Str)\n",
    "# slicing\n",
    "Str = \"Hello World\"\n",
    "print(\"slicing:\\n\",Str[0:5])  # return the characters from index 0 to 4\n",
    "# indexing\n",
    "Str = \"Hello World\"\n",
    "print(\"indexing:\\n\",Str[0])  # return the character at index 0\n",
    "# negative indexing\n",
    "Str = \"Hello World\"\n",
    "print(\"negative indexing:\\n\",Str[-1])  # return the last character. Try with Str[-1], Str[-2], Str[-3], Str[-4], Str[-5]\n",
    "# negative slicing\n",
    "Str = \"Hello World\"\n",
    "print(\"negative slicing:\\n\",Str[-5:])  # return the last 5 characters. Try with Str[-5:1], Str[-5:-2] \n",
    "\n",
    "# str is immutable, so you cannot change the value of a character in a string.\n",
    "Str = \"Hello World\"\n",
    "# Str[0] = \"h\"  # this will raise an error\n",
    "# you can only change the value of the variable.\n",
    "Str = \"hello World\"\n",
    "print(Str)\n"
   ]
  },
  {
   "cell_type": "code",
   "execution_count": null,
   "metadata": {},
   "outputs": [],
   "source": []
  }
 ],
 "metadata": {
  "kernelspec": {
   "display_name": "py3.8_tf",
   "language": "python",
   "name": "python3"
  },
  "language_info": {
   "codemirror_mode": {
    "name": "ipython",
    "version": 3
   },
   "file_extension": ".py",
   "mimetype": "text/x-python",
   "name": "python",
   "nbconvert_exporter": "python",
   "pygments_lexer": "ipython3",
   "version": "3.8.19"
  }
 },
 "nbformat": 4,
 "nbformat_minor": 2
}
