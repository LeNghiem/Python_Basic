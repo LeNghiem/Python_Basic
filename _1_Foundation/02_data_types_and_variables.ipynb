{
 "cells": [
  {
   "cell_type": "markdown",
   "metadata": {},
   "source": [
    "# Varibale"
   ]
  },
  {
   "cell_type": "markdown",
   "metadata": {},
   "source": [
    "# Naming Conventions in Python\n",
    "\n",
    "In Python, naming conventions are important for readability and maintainability of the code. Here are some common conventions:\n",
    "\n",
    "1. **Variable Names**: Use lowercase words separated by underscores.\n",
    "    ```python\n",
    "    my_variable = 10\n",
    "    ```\n",
    "\n",
    "2. **Function Names**: Use lowercase words separated by underscores.\n",
    "    ```python\n",
    "    def my_function():\n",
    "         pass\n",
    "    ```\n",
    "\n",
    "3. **Class Names**: Use CamelCase (capitalize each word).\n",
    "    ```python\n",
    "    class MyClass:\n",
    "         pass\n",
    "    ```\n",
    "\n",
    "4. **Constants**: Use all uppercase letters separated by underscores.\n",
    "    ```python\n",
    "    MY_CONSTANT = 100\n",
    "    ```\n",
    "\n",
    "5. **Module Names**: Use lowercase words separated by underscores.\n",
    "    ```python\n",
    "    import my_module\n",
    "    ```\n",
    "\n",
    "6. **Package Names**: Use short, lowercase names without underscores.\n",
    "    ```python\n",
    "    import mypackage\n",
    "    ```\n",
    "\n",
    "Following these conventions helps in writing clean and understandable code."
   ]
  },
  {
   "cell_type": "markdown",
   "metadata": {},
   "source": [
    "### Naming variable with the following rules.\n",
    "1. Using characters a-z and number 0-9.\n",
    "a1, a2, abc, afsfdfs\n",
    "2. Start with a letter or underscore _\n",
    "_a1, _a2, _a3, _a_b_10\n",
    "3. Do not use special letter\n",
    "@, !,#,$,%,^<&<*>>.....\n",
    "4. Do use key words that defined in python ( Ex. list, str, ....)\n",
    "5. Variable nam have to be clear, readability, mainability, meaningful.\n",
    "\n",
    "animal_A\n",
    "dog_A\n"
   ]
  },
  {
   "cell_type": "code",
   "execution_count": 18,
   "metadata": {},
   "outputs": [
    {
     "name": "stdout",
     "output_type": "stream",
     "text": [
      "140387534528304\n",
      "140387534528304\n",
      "bird\n",
      "cat\n",
      "140387192655408\n",
      "140387500448688\n"
     ]
    }
   ],
   "source": [
    "# Variables have to assigned to the values.\n",
    "# Cannot declare a variable without assigning a value.\n",
    "# Variables are case sensitive.\n",
    "# Variables can be reassigned.\n",
    "\n",
    "animal_A = \"cat\"\n",
    "animal_B = \"dog\"\n",
    "animal_C = \"rabbit\"\n",
    "\n",
    "# if you assign a variable to another variable, the memory address of the variable will be the same.\n",
    "animal_D = animal_A\n",
    "print(id(animal_D))\n",
    "print(id(animal_A))\n",
    "# So, if you change the value of the variable (Ex. animal_A), the value of the other variable (Ex. Animal_D) will also change.\n",
    "animal_A = \"bird\"\n",
    "print(animal_A)\n",
    "print(animal_D)\n",
    "# However, if you assign a variable for (animal_D) to a value, the memory address of the variable will be different.\n",
    "animal_D = \"fish\"\n",
    "print(id(animal_A))\n",
    "print(id(animal_D))\n"
   ]
  },
  {
   "cell_type": "markdown",
   "metadata": {},
   "source": [
    "```markdown\n",
    "# Additional Information about Variables\n",
    "\n",
    "- **Variable Scope**: Variables can have different scopes, such as local, global, and nonlocal. The scope determines where the variable can be accessed in the code.\n",
    "    ```python\n",
    "    def my_function():\n",
    "        local_var = 10  # Local scope\n",
    "        print(local_var)\n",
    "\n",
    "    global_var = 20  # Global scope\n",
    "\n",
    "    my_function()\n",
    "    print(global_var)\n",
    "    ```\n",
    "\n",
    "- **Variable Types**: Variables can hold different types of data, such as integers, floats, strings, lists, dictionaries, etc.\n",
    "    ```python\n",
    "    my_int = 10  # Integer\n",
    "    my_float = 10.5  # Float\n",
    "    my_str = \"Hello\"  # String\n",
    "    my_list = [1, 2, 3]  # List\n",
    "    my_dict = {\"key\": \"value\"}  # Dictionary\n",
    "    ```\n",
    "\n",
    "- **Type Conversion**: Variables can be converted from one type to another using type conversion functions.\n",
    "    ```python\n",
    "    my_int = 10\n",
    "    my_float = float(my_int)  # Convert integer to float\n",
    "    my_str = str(my_int)  # Convert integer to string\n",
    "    ```\n",
    "\n",
    "- **Variable Deletion**: Variables can be deleted using the `del` statement.\n",
    "    ```python\n",
    "    my_var = 10\n",
    "    del my_var\n",
    "    ```\n",
    "\n",
    "- **Variable Naming Best Practices**:\n",
    "  - Use descriptive names that convey the purpose of the variable.\n",
    "  - Avoid using single-character names except for loop counters.\n",
    "  - Be consistent with naming conventions throughout your code.\n",
    "```"
   ]
  },
  {
   "cell_type": "markdown",
   "metadata": {},
   "source": [
    "# Number"
   ]
  },
  {
   "cell_type": "code",
   "execution_count": 19,
   "metadata": {},
   "outputs": [
    {
     "name": "stdout",
     "output_type": "stream",
     "text": [
      "10\n",
      "10.5\n",
      "(10+5j)\n",
      "Hello, World!\n",
      "True\n",
      "[1, 2, 3, 4, 5]\n",
      "(1, 2, 3, 4, 5)\n",
      "{1, 2, 3, 4, 5}\n",
      "{'name': 'John', 'age': 36}\n",
      "None\n"
     ]
    }
   ],
   "source": [
    "# int, float, complex, str, bool, list, tuple, set, dict\n",
    "# int\n",
    "number = 10\n",
    "print(number)\n",
    "# float\n",
    "number = 10.5\n",
    "print(number)\n",
    "# complex\n",
    "number = 10 + 5j\n",
    "print(number)\n",
    "# str\n",
    "string = \"Hello, World!\"\n",
    "print(string)\n",
    "# bool\n",
    "boolean = True\n",
    "print(boolean)\n",
    "# list\n",
    "list = [1, 2, 3, 4, 5]\n",
    "print(list)\n",
    "# tuple\n",
    "tuple = (1, 2, 3, 4, 5)\n",
    "print(tuple)\n",
    "# set\n",
    "set = {1, 2, 3, 4, 5}\n",
    "print(set)\n",
    "# dict\n",
    "dict = {\"name\": \"John\", \"age\": 36}\n",
    "print(dict)\n",
    "# None\n",
    "none = None\n",
    "print(none)\n"
   ]
  },
  {
   "cell_type": "code",
   "execution_count": 20,
   "metadata": {},
   "outputs": [
    {
     "data": {
      "text/plain": [
       "'bird'"
      ]
     },
     "execution_count": 20,
     "metadata": {},
     "output_type": "execute_result"
    }
   ],
   "source": [
    "animal_A"
   ]
  },
  {
   "cell_type": "code",
   "execution_count": null,
   "metadata": {},
   "outputs": [],
   "source": []
  }
 ],
 "metadata": {
  "kernelspec": {
   "display_name": "py3.8_tf",
   "language": "python",
   "name": "python3"
  },
  "language_info": {
   "codemirror_mode": {
    "name": "ipython",
    "version": 3
   },
   "file_extension": ".py",
   "mimetype": "text/x-python",
   "name": "python",
   "nbconvert_exporter": "python",
   "pygments_lexer": "ipython3",
   "version": "3.8.19"
  }
 },
 "nbformat": 4,
 "nbformat_minor": 2
}
